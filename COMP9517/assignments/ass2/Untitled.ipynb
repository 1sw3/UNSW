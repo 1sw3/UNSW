{
 "cells": [
  {
   "cell_type": "code",
   "execution_count": 2,
   "metadata": {},
   "outputs": [],
   "source": [
    "import torch.nn as nn\n",
    "import torch.nn.functional as F"
   ]
  },
  {
   "cell_type": "code",
   "execution_count": 28,
   "metadata": {},
   "outputs": [],
   "source": [
    "class ExudateClassifier(nn.Module):\n",
    "    def __init__(self):\n",
    "        super(ExudateClassifier, self).__init__()\n",
    "        self.conv = nn.Sequential()\n",
    "        self.conv.add_module(\"Conv1\", nn.Conv2d(3, 32, kernel_size=2))\n",
    "        self.conv.add_module(\"BN1\", nn.BatchNorm2d(32))\n",
    "        self.conv.add_module(\"Relu1\", nn.ReLU())\n",
    "        \n",
    "        self.conv.add_module(\"Conv2\", nn.Conv2d(32, 32, kernel_size=2))\n",
    "        self.conv.add_module(\"BN2\", nn.BatchNorm2d(32))\n",
    "        self.conv.add_module(\"Relu2\", nn.ReLU())\n",
    "        self.conv.add_module(\"Layer2MaxPool\", nn.MaxPool2d(2))\n",
    "        \n",
    "        self.conv.add_module(\"Conv3\", nn.Conv2d(32, 64, kernel_size=2))\n",
    "        self.conv.add_module(\"BN3\", nn.BatchNorm2d(64))\n",
    "        self.conv.add_module(\"Relu3\", nn.ReLU())\n",
    "        \n",
    "        self.conv.add_module(\"Conv4\", nn.Conv2d(64, 64, kernel_size=2))\n",
    "        self.conv.add_module(\"BN4\", nn.BatchNorm2d(64))\n",
    "        self.conv.add_module(\"Relu4\", nn.ReLU())\n",
    "        self.conv.add_module(\"Layer4MaxPool\", nn.MaxPool2d(2))\n",
    "        \n",
    "        self.conv.add_module(\"Conv5\", nn.Conv2d(64, 128, kernel_size=2))\n",
    "        self.conv.add_module(\"BN5\", nn.BatchNorm2d(128))\n",
    "        self.conv.add_module(\"Relu5\", nn.ReLU())\n",
    "        \n",
    "        self.conv.add_module(\"Conv6\", nn.Conv2d(128, 128, kernel_size=2))\n",
    "        self.conv.add_module(\"BN6\", nn.BatchNorm2d(128))\n",
    "        self.conv.add_module(\"Relu6\", nn.ReLU())\n",
    "        self.conv.add_module(\"Layer6MaxPool\", nn.MaxPool2d(2))\n",
    "        \n",
    "        self.conv.add_module(\"Conv7\", nn.Conv2d(128, 256, kernel_size=2))\n",
    "        self.conv.add_module(\"BN7\", nn.BatchNorm2d(256))\n",
    "        self.conv.add_module(\"Relu7\", nn.ReLU())\n",
    "        \n",
    "        self.conv.add_module(\"Conv8\", nn.Conv2d(256, 256, kernel_size=2))\n",
    "        self.conv.add_module(\"BN8\", nn.BatchNorm2d(256))\n",
    "        self.conv.add_module(\"Relu8\", nn.ReLU())\n",
    "        \n",
    "        self.fc = nn.Sequential()\n",
    "        self.fc.add_module(\"FC1\", nn.Linear(4096, 1000))\n",
    "        self.fc.add_module(\"FC2\", nn.Linear(1000, 100))\n",
    "        self.fc.add_module(\"FC3\",nn.Linear(100, 2))\n",
    "    \n",
    "    def forward(self, x):\n",
    "        x = self.conv(x)\n",
    "        x = self.fc(x)\n",
    "        return x"
   ]
  },
  {
   "cell_type": "code",
   "execution_count": 29,
   "metadata": {},
   "outputs": [],
   "source": [
    "model = ExudateClassifier()"
   ]
  },
  {
   "cell_type": "code",
   "execution_count": 73,
   "metadata": {},
   "outputs": [],
   "source": [
    "# Load the image names\n",
    "import os\n",
    "import os.path\n",
    "import cv2\n",
    "\n",
    "from sklearn.datasets import load_sample_image\n",
    "from sklearn.feature_extraction import image\n",
    "\n",
    "# train_path_truths = os.path.join(\"Data_Group_Component_Task_1\", \"Train\", \"masks_Hard_Exudates\")\n",
    "train_path_images = os.path.join(\"Data_Group_Component_Task_1\", \"Train\", \"original_retinal_images\")\n",
    "train_path_exudates = os.path.join(\"Data_Group_Component_Task_1\", \"Train\", \"masks_Hard_Exudates\")\n",
    "train_image_names = os.listdir(train_path_images)\n",
    "train_exudate_names = list(map(lambda x: x.split('.')[0] + '_EX.tif', train_image_names))\n",
    "\n",
    "images = list(map(\n",
    "    lambda x: cv2.resize(\n",
    "        cv2.imread(\n",
    "            os.path.join(train_path_images, x)\n",
    "        ), (256, 256)\n",
    "    ), train_image_names))\n",
    "\n",
    "exudates = list(map(\n",
    "    lambda x: cv2.resize(\n",
    "        cv2.imread(\n",
    "            os.path.join(train_path_exudates, x)\n",
    "        ), (256, 256)\n",
    "    )[:,:,2], train_exudate_names))"
   ]
  },
  {
   "cell_type": "code",
   "execution_count": 74,
   "metadata": {},
   "outputs": [],
   "source": [
    "import numpy as np\n",
    "img = np.dstack((images[0], exudates[0]))"
   ]
  },
  {
   "cell_type": "code",
   "execution_count": 75,
   "metadata": {},
   "outputs": [],
   "source": [
    "patches = image.extract_patches_2d(img, (32,32))\n",
    "positive_match = np."
   ]
  },
  {
   "cell_type": "code",
   "execution_count": 77,
   "metadata": {},
   "outputs": [
    {
     "data": {
      "text/plain": [
       "(50625, 32, 32, 4)"
      ]
     },
     "execution_count": 77,
     "metadata": {},
     "output_type": "execute_result"
    }
   ],
   "source": [
    "patches.shape"
   ]
  },
  {
   "cell_type": "code",
   "execution_count": null,
   "metadata": {},
   "outputs": [],
   "source": []
  }
 ],
 "metadata": {
  "kernelspec": {
   "display_name": "Python 3",
   "language": "python",
   "name": "python3"
  },
  "language_info": {
   "codemirror_mode": {
    "name": "ipython",
    "version": 3
   },
   "file_extension": ".py",
   "mimetype": "text/x-python",
   "name": "python",
   "nbconvert_exporter": "python",
   "pygments_lexer": "ipython3",
   "version": "3.7.4"
  }
 },
 "nbformat": 4,
 "nbformat_minor": 2
}
