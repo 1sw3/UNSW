{
 "cells": [
  {
   "cell_type": "markdown",
   "metadata": {},
   "source": [
    "# Optic Disc Segmentation"
   ]
  },
  {
   "cell_type": "code",
   "execution_count": 1,
   "metadata": {},
   "outputs": [],
   "source": [
    "%matplotlib inline\n",
    "\n",
    "import os\n",
    "import os.path\n",
    "import cv2\n",
    "import pandas as pd\n",
    "import numpy as np\n",
    "\n",
    "import matplotlib as mpl\n",
    "import matplotlib.pyplot as plt\n",
    "\n",
    "mpl.rcParams['figure.dpi'] = 300"
   ]
  },
  {
   "cell_type": "markdown",
   "metadata": {},
   "source": [
    "## Load the Images\n",
    "Note to self: for consistency across platforms within my own repository structure, always run `jupyter notebook` from the root of this git repo `COMP9517`."
   ]
  },
  {
   "cell_type": "code",
   "execution_count": 2,
   "metadata": {},
   "outputs": [],
   "source": [
    "# repo_path = os.getcwd()\n",
    "# data_path = os.path.join(repo_path, \"assignments\", \"ass2\", \"Data_Individual_Component\")\n",
    "\n",
    "# retinal_images_path = os.path.join(data_path, \"original_retinal_images\")\n",
    "# truth_masks_path = os.path.join(data_path, \"optic_disc_segmentation_masks\")\n",
    "\n",
    "retinal_images_path = os.path.join(\"Data_Individual_Component\", \"original_retinal_images\")\n",
    "truth_masks_path = os.path.join(\"Data_Individual_Component\", \"optic_disc_segmentation_masks\")\n",
    "\n",
    "retinal_images_names = list(map(lambda x: os.path.join(retinal_images_path, x),os.listdir(retinal_images_path)))\n",
    "truth_masks_names = list(map(lambda x: os.path.join(truth_masks_path, x), os.listdir(truth_masks_path)))\n",
    "\n",
    "df = pd.DataFrame({\"image_path\": retinal_images_names, \"mask_path\": truth_masks_names})"
   ]
  },
  {
   "cell_type": "code",
   "execution_count": 6,
   "metadata": {},
   "outputs": [],
   "source": [
    "def segment(img):\n",
    "    \n",
    "    def some_func(roi):\n",
    "        return 0\n",
    "\n",
    "    result = np.copy(img)\n",
    "    \n",
    "    # apply average filter to reduce effect of noise\n",
    "    # avg_kernel = np.ones((6, 6), np.float32) / 36\n",
    "    # result = cv2.filter2D(result, -1, avg_kernel)\n",
    "\n",
    "    b = result[:,:,0]\n",
    "    g = result[:,:,1]\n",
    "    r = result[:,:,2]\n",
    "\n",
    "    fig, axes = plt.subplots(1,3)\n",
    "    for ax in axes:\n",
    "        ax.axis('off')\n",
    "\n",
    "    # apply maximum difference filter in 50x50 window\n",
    "    avg_kernel_50 = np.ones((3,3), np.float32) / 3 ** 2\n",
    "    g = cv2.filter2D(g, -1, avg_kernel_50)\n",
    "    window_size = 3\n",
    "    \n",
    "    img = g\n",
    "    img_shape = img.shape\n",
    "\n",
    "    size = 3 # window size i.e. here is 3x3 window\n",
    "\n",
    "    shape = (img.shape[0] - size + 1, img.shape[1] - size + 1, size, size)\n",
    "    strides = 2 * img.strides\n",
    "    patches = np.lib.stride_tricks.as_strided(img, shape=shape, strides=strides)\n",
    "    patches = patches.reshape(-1, size, size)\n",
    "\n",
    "    print(patches.shape)\n",
    "    \n",
    "    output_img = np.array([some_func(roi) for roi in patches])\n",
    "    output_img.reshape(size)\n",
    "    \n",
    "    max_diff_loc= (0,0)\n",
    "\n",
    "    axes[0].imshow(b)\n",
    "    axes[1].imshow(g)\n",
    "    axes[2].imshow(r)\n",
    "\n",
    "\n",
    "    return output_img, max_diff_loc"
   ]
  },
  {
   "cell_type": "code",
   "execution_count": 7,
   "metadata": {},
   "outputs": [],
   "source": [
    "def test_segmentation(image_path, truth_path):\n",
    "\n",
    "    retinal_img = cv2.imread(image_path)\n",
    "    truth_img = cv2.imread(truth_path)\n",
    "\n",
    "    retinal_img = cv2.resize(retinal_img, None, fx=1, fy=1)\n",
    "\n",
    "    segmented_img, max_diff_loc = segment(retinal_img)\n",
    "\n",
    "    fig, axes = plt.subplots(1, 3)\n",
    "\n",
    "    for ax in axes:\n",
    "        ax.axis('off')\n",
    "\n",
    "    cv2.circle(segmented_img, max_diff_loc, 10, (255,255,255), 3)\n",
    "    cv2.imshow('temp', segmented_img)\n",
    "    cv2.waitKey(1)\n",
    "    cv2.destroyAllWindows()\n",
    "    \n",
    "    axes[0].imshow(retinal_img)\n",
    "    axes[1].imshow(truth_img)\n",
    "    axes[2].imshow(segmented_img)\n",
    "    \n",
    "    pass"
   ]
  },
  {
   "cell_type": "code",
   "execution_count": 8,
   "metadata": {},
   "outputs": [
    {
     "name": "stdout",
     "output_type": "stream",
     "text": [
      "(12197956, 3, 3)\n"
     ]
    },
    {
     "ename": "ValueError",
     "evalue": "cannot reshape array of size 12197956 into shape (3,)",
     "output_type": "error",
     "traceback": [
      "\u001b[1;31m---------------------------------------------------------------------------\u001b[0m",
      "\u001b[1;31mValueError\u001b[0m                                Traceback (most recent call last)",
      "\u001b[1;32m<ipython-input-8-a7307313fec6>\u001b[0m in \u001b[0;36m<module>\u001b[1;34m\u001b[0m\n\u001b[0;32m      4\u001b[0m \u001b[1;33m\u001b[0m\u001b[0m\n\u001b[0;32m      5\u001b[0m \u001b[1;33m\u001b[0m\u001b[0m\n\u001b[1;32m----> 6\u001b[1;33m \u001b[0mtest_segmentation\u001b[0m\u001b[1;33m(\u001b[0m\u001b[0mimg_path\u001b[0m\u001b[1;33m,\u001b[0m \u001b[0mmask_path\u001b[0m\u001b[1;33m)\u001b[0m\u001b[1;33m\u001b[0m\u001b[1;33m\u001b[0m\u001b[0m\n\u001b[0m",
      "\u001b[1;32m<ipython-input-7-cb85b94f6fcd>\u001b[0m in \u001b[0;36mtest_segmentation\u001b[1;34m(image_path, truth_path)\u001b[0m\n\u001b[0;32m      6\u001b[0m     \u001b[0mretinal_img\u001b[0m \u001b[1;33m=\u001b[0m \u001b[0mcv2\u001b[0m\u001b[1;33m.\u001b[0m\u001b[0mresize\u001b[0m\u001b[1;33m(\u001b[0m\u001b[0mretinal_img\u001b[0m\u001b[1;33m,\u001b[0m \u001b[1;32mNone\u001b[0m\u001b[1;33m,\u001b[0m \u001b[0mfx\u001b[0m\u001b[1;33m=\u001b[0m\u001b[1;36m1\u001b[0m\u001b[1;33m,\u001b[0m \u001b[0mfy\u001b[0m\u001b[1;33m=\u001b[0m\u001b[1;36m1\u001b[0m\u001b[1;33m)\u001b[0m\u001b[1;33m\u001b[0m\u001b[1;33m\u001b[0m\u001b[0m\n\u001b[0;32m      7\u001b[0m \u001b[1;33m\u001b[0m\u001b[0m\n\u001b[1;32m----> 8\u001b[1;33m     \u001b[0msegmented_img\u001b[0m\u001b[1;33m,\u001b[0m \u001b[0mmax_diff_loc\u001b[0m \u001b[1;33m=\u001b[0m \u001b[0msegment\u001b[0m\u001b[1;33m(\u001b[0m\u001b[0mretinal_img\u001b[0m\u001b[1;33m)\u001b[0m\u001b[1;33m\u001b[0m\u001b[1;33m\u001b[0m\u001b[0m\n\u001b[0m\u001b[0;32m      9\u001b[0m \u001b[1;33m\u001b[0m\u001b[0m\n\u001b[0;32m     10\u001b[0m     \u001b[0mfig\u001b[0m\u001b[1;33m,\u001b[0m \u001b[0maxes\u001b[0m \u001b[1;33m=\u001b[0m \u001b[0mplt\u001b[0m\u001b[1;33m.\u001b[0m\u001b[0msubplots\u001b[0m\u001b[1;33m(\u001b[0m\u001b[1;36m1\u001b[0m\u001b[1;33m,\u001b[0m \u001b[1;36m3\u001b[0m\u001b[1;33m)\u001b[0m\u001b[1;33m\u001b[0m\u001b[1;33m\u001b[0m\u001b[0m\n",
      "\u001b[1;32m<ipython-input-6-8b73754e705e>\u001b[0m in \u001b[0;36msegment\u001b[1;34m(img)\u001b[0m\n\u001b[0;32m     36\u001b[0m \u001b[1;33m\u001b[0m\u001b[0m\n\u001b[0;32m     37\u001b[0m     \u001b[0moutput_img\u001b[0m \u001b[1;33m=\u001b[0m \u001b[0mnp\u001b[0m\u001b[1;33m.\u001b[0m\u001b[0marray\u001b[0m\u001b[1;33m(\u001b[0m\u001b[1;33m[\u001b[0m\u001b[0msome_func\u001b[0m\u001b[1;33m(\u001b[0m\u001b[0mroi\u001b[0m\u001b[1;33m)\u001b[0m \u001b[1;32mfor\u001b[0m \u001b[0mroi\u001b[0m \u001b[1;32min\u001b[0m \u001b[0mpatches\u001b[0m\u001b[1;33m]\u001b[0m\u001b[1;33m)\u001b[0m\u001b[1;33m\u001b[0m\u001b[1;33m\u001b[0m\u001b[0m\n\u001b[1;32m---> 38\u001b[1;33m     \u001b[0moutput_img\u001b[0m\u001b[1;33m.\u001b[0m\u001b[0mreshape\u001b[0m\u001b[1;33m(\u001b[0m\u001b[0msize\u001b[0m\u001b[1;33m)\u001b[0m\u001b[1;33m\u001b[0m\u001b[1;33m\u001b[0m\u001b[0m\n\u001b[0m\u001b[0;32m     39\u001b[0m \u001b[1;33m\u001b[0m\u001b[0m\n\u001b[0;32m     40\u001b[0m     \u001b[0mmax_diff_loc\u001b[0m\u001b[1;33m=\u001b[0m \u001b[1;33m(\u001b[0m\u001b[1;36m0\u001b[0m\u001b[1;33m,\u001b[0m\u001b[1;36m0\u001b[0m\u001b[1;33m)\u001b[0m\u001b[1;33m\u001b[0m\u001b[1;33m\u001b[0m\u001b[0m\n",
      "\u001b[1;31mValueError\u001b[0m: cannot reshape array of size 12197956 into shape (3,)"
     ]
    },
    {
     "data": {
      "image/png": "[encoded data removed]",
      "text/plain": [
       "<Figure size 432x288 with 3 Axes>"
      ]
     },
     "metadata": {
      "needs_background": "light"
     },
     "output_type": "display_data"
    }
   ],
   "source": [
    "data = df.sample(1).iloc[0,:]\n",
    "img_path = data[\"image_path\"]\n",
    "mask_path = data[\"mask_path\"]\n",
    "\n",
    "\n",
    "test_segmentation(img_path, mask_path)"
   ]
  },
  {
   "cell_type": "code",
   "execution_count": null,
   "metadata": {},
   "outputs": [],
   "source": [
    "|"
   ]
  }
 ],
 "metadata": {
  "kernelspec": {
   "display_name": "Python 3",
   "language": "python",
   "name": "python3"
  },
  "language_info": {
   "codemirror_mode": {
    "name": "ipython",
    "version": 3
   },
   "file_extension": ".py",
   "mimetype": "text/x-python",
   "name": "python",
   "nbconvert_exporter": "python",
   "pygments_lexer": "ipython3",
   "version": "3.7.4"
  }
 },
 "nbformat": 4,
 "nbformat_minor": 2
}
